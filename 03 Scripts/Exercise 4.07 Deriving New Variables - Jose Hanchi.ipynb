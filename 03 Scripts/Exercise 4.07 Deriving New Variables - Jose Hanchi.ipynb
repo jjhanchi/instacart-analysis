{
 "cells": [
  {
   "cell_type": "code",
   "execution_count": 1,
   "id": "f6051660",
   "metadata": {},
   "outputs": [],
   "source": [
    "# preamble\n",
    "from datetime import datetime\n",
    "start = datetime.now()"
   ]
  },
  {
   "cell_type": "markdown",
   "id": "ad725912",
   "metadata": {},
   "source": [
    "## Step 1 > create two new columns: ```price_label``` and ```busiest_day``` in imported data set ```orders_products_merged```"
   ]
  },
  {
   "cell_type": "code",
   "execution_count": 2,
   "id": "2d8e49f4",
   "metadata": {},
   "outputs": [],
   "source": [
    "#import libraries\n",
    "import pandas as pd\n",
    "import numpy as np\n",
    "import os\n",
    "\n",
    "ICpath = r'C:\\Users\\joseh\\Instacart Basket Analysis'\n",
    "\n",
    "#import orders_products_merged.pkl\n",
    "df_ords_prods_merged = pd.read_pickle(os.path.join(ICpath, '02 Data', 'Prepared Data', 'orders_products_merged.pkl'))"
   ]
  },
  {
   "cell_type": "code",
   "execution_count": 3,
   "id": "331d0dba",
   "metadata": {},
   "outputs": [
    {
     "data": {
      "text/plain": [
       "(32404859, 15)"
      ]
     },
     "execution_count": 3,
     "metadata": {},
     "output_type": "execute_result"
    }
   ],
   "source": [
    "df_ords_prods_merged.shape"
   ]
  },
  {
   "cell_type": "code",
   "execution_count": 4,
   "id": "ccea1701",
   "metadata": {},
   "outputs": [
    {
     "data": {
      "text/html": [
       "<div>\n",
       "<style scoped>\n",
       "    .dataframe tbody tr th:only-of-type {\n",
       "        vertical-align: middle;\n",
       "    }\n",
       "\n",
       "    .dataframe tbody tr th {\n",
       "        vertical-align: top;\n",
       "    }\n",
       "\n",
       "    .dataframe thead th {\n",
       "        text-align: right;\n",
       "    }\n",
       "</style>\n",
       "<table border=\"1\" class=\"dataframe\">\n",
       "  <thead>\n",
       "    <tr style=\"text-align: right;\">\n",
       "      <th></th>\n",
       "      <th>order_id</th>\n",
       "      <th>user_id</th>\n",
       "      <th>order_number</th>\n",
       "      <th>order_dow</th>\n",
       "      <th>order_hour_of_day</th>\n",
       "      <th>days_since_prior_order</th>\n",
       "      <th>first_order_from_customer</th>\n",
       "      <th>product_id</th>\n",
       "      <th>add_to_cart_order</th>\n",
       "      <th>reordered</th>\n",
       "      <th>product_name</th>\n",
       "      <th>aisle_id</th>\n",
       "      <th>department_id</th>\n",
       "      <th>prices</th>\n",
       "      <th>_merge</th>\n",
       "    </tr>\n",
       "  </thead>\n",
       "  <tbody>\n",
       "    <tr>\n",
       "      <th>0</th>\n",
       "      <td>2539329</td>\n",
       "      <td>1</td>\n",
       "      <td>1</td>\n",
       "      <td>2</td>\n",
       "      <td>8</td>\n",
       "      <td>NaN</td>\n",
       "      <td>True</td>\n",
       "      <td>196</td>\n",
       "      <td>1</td>\n",
       "      <td>0</td>\n",
       "      <td>Soda</td>\n",
       "      <td>77</td>\n",
       "      <td>7</td>\n",
       "      <td>9.0</td>\n",
       "      <td>both</td>\n",
       "    </tr>\n",
       "    <tr>\n",
       "      <th>1</th>\n",
       "      <td>2398795</td>\n",
       "      <td>1</td>\n",
       "      <td>2</td>\n",
       "      <td>3</td>\n",
       "      <td>7</td>\n",
       "      <td>15.0</td>\n",
       "      <td>False</td>\n",
       "      <td>196</td>\n",
       "      <td>1</td>\n",
       "      <td>1</td>\n",
       "      <td>Soda</td>\n",
       "      <td>77</td>\n",
       "      <td>7</td>\n",
       "      <td>9.0</td>\n",
       "      <td>both</td>\n",
       "    </tr>\n",
       "    <tr>\n",
       "      <th>2</th>\n",
       "      <td>473747</td>\n",
       "      <td>1</td>\n",
       "      <td>3</td>\n",
       "      <td>3</td>\n",
       "      <td>12</td>\n",
       "      <td>21.0</td>\n",
       "      <td>False</td>\n",
       "      <td>196</td>\n",
       "      <td>1</td>\n",
       "      <td>1</td>\n",
       "      <td>Soda</td>\n",
       "      <td>77</td>\n",
       "      <td>7</td>\n",
       "      <td>9.0</td>\n",
       "      <td>both</td>\n",
       "    </tr>\n",
       "    <tr>\n",
       "      <th>3</th>\n",
       "      <td>2254736</td>\n",
       "      <td>1</td>\n",
       "      <td>4</td>\n",
       "      <td>4</td>\n",
       "      <td>7</td>\n",
       "      <td>29.0</td>\n",
       "      <td>False</td>\n",
       "      <td>196</td>\n",
       "      <td>1</td>\n",
       "      <td>1</td>\n",
       "      <td>Soda</td>\n",
       "      <td>77</td>\n",
       "      <td>7</td>\n",
       "      <td>9.0</td>\n",
       "      <td>both</td>\n",
       "    </tr>\n",
       "    <tr>\n",
       "      <th>4</th>\n",
       "      <td>431534</td>\n",
       "      <td>1</td>\n",
       "      <td>5</td>\n",
       "      <td>4</td>\n",
       "      <td>15</td>\n",
       "      <td>28.0</td>\n",
       "      <td>False</td>\n",
       "      <td>196</td>\n",
       "      <td>1</td>\n",
       "      <td>1</td>\n",
       "      <td>Soda</td>\n",
       "      <td>77</td>\n",
       "      <td>7</td>\n",
       "      <td>9.0</td>\n",
       "      <td>both</td>\n",
       "    </tr>\n",
       "  </tbody>\n",
       "</table>\n",
       "</div>"
      ],
      "text/plain": [
       "   order_id  user_id  order_number  order_dow  order_hour_of_day  \\\n",
       "0   2539329        1             1          2                  8   \n",
       "1   2398795        1             2          3                  7   \n",
       "2    473747        1             3          3                 12   \n",
       "3   2254736        1             4          4                  7   \n",
       "4    431534        1             5          4                 15   \n",
       "\n",
       "   days_since_prior_order  first_order_from_customer  product_id  \\\n",
       "0                     NaN                       True         196   \n",
       "1                    15.0                      False         196   \n",
       "2                    21.0                      False         196   \n",
       "3                    29.0                      False         196   \n",
       "4                    28.0                      False         196   \n",
       "\n",
       "   add_to_cart_order  reordered product_name  aisle_id  department_id  prices  \\\n",
       "0                  1          0         Soda        77              7     9.0   \n",
       "1                  1          1         Soda        77              7     9.0   \n",
       "2                  1          1         Soda        77              7     9.0   \n",
       "3                  1          1         Soda        77              7     9.0   \n",
       "4                  1          1         Soda        77              7     9.0   \n",
       "\n",
       "  _merge  \n",
       "0   both  \n",
       "1   both  \n",
       "2   both  \n",
       "3   both  \n",
       "4   both  "
      ]
     },
     "execution_count": 4,
     "metadata": {},
     "output_type": "execute_result"
    }
   ],
   "source": [
    "df_ords_prods_merged.head()"
   ]
  },
  {
   "cell_type": "code",
   "execution_count": 5,
   "id": "7ea75609",
   "metadata": {},
   "outputs": [
    {
     "data": {
      "text/plain": [
       "(32404859, 14)"
      ]
     },
     "execution_count": 5,
     "metadata": {},
     "output_type": "execute_result"
    }
   ],
   "source": [
    "# drop the column '_merge' with information on the merge results in a prior exercise\n",
    "df_ords_prods_merged.drop(columns = ['_merge'], inplace=True)\n",
    "\n",
    "#verify the change took place\n",
    "df_ords_prods_merged.shape"
   ]
  },
  {
   "cell_type": "code",
   "execution_count": 6,
   "id": "dce07cb9",
   "metadata": {},
   "outputs": [],
   "source": [
    "#using loc() method, assign price labels to 3 different segments of the data set\n",
    "# High: price > 15 | Low: price <= 5 | Mid: price >5 and <=15\n",
    "df_ords_prods_merged.loc[df_ords_prods_merged['prices']>15, 'price_label'] = 'High-range product'"
   ]
  },
  {
   "cell_type": "code",
   "execution_count": 7,
   "id": "c9587757",
   "metadata": {},
   "outputs": [],
   "source": [
    "df_ords_prods_merged.loc[(df_ords_prods_merged['prices']>5) & \n",
    "                         (df_ords_prods_merged['prices']<=15), 'price_label'] = 'Mid-range product'"
   ]
  },
  {
   "cell_type": "code",
   "execution_count": 8,
   "id": "adf87bff",
   "metadata": {},
   "outputs": [],
   "source": [
    "df_ords_prods_merged.loc[df_ords_prods_merged['prices']<=5, 'price_label'] = 'Low-range product'"
   ]
  },
  {
   "cell_type": "code",
   "execution_count": 9,
   "id": "b59e5cc8",
   "metadata": {},
   "outputs": [
    {
     "data": {
      "text/plain": [
       "Mid-range product     21860860\n",
       "Low-range product     10126321\n",
       "High-range product      417678\n",
       "Name: price_label, dtype: int64"
      ]
     },
     "execution_count": 9,
     "metadata": {},
     "output_type": "execute_result"
    }
   ],
   "source": [
    "#double check the results\n",
    "df_ords_prods_merged['price_label'].value_counts()"
   ]
  },
  {
   "cell_type": "markdown",
   "id": "57aa0906",
   "metadata": {},
   "source": [
    "#### verified that the sum of the 3 segments above is 32,404,859:\n",
    "21,860,860 + 10,126,321 + 417,678 = 32,404,859"
   ]
  },
  {
   "cell_type": "code",
   "execution_count": 10,
   "id": "519bd752",
   "metadata": {},
   "outputs": [],
   "source": [
    "#use a different method with a for-loop to create a new column (list) that will be named 'busiest_day'\n",
    "result=[]\n",
    "for value in df_ords_prods_merged['order_dow']:\n",
    "    if value == 0:\n",
    "        result.append('Busiest day')\n",
    "    elif value ==4:\n",
    "        result.append('Least busy')\n",
    "    else:\n",
    "        result.append('Regular busy')"
   ]
  },
  {
   "cell_type": "code",
   "execution_count": 11,
   "id": "20ca3ade",
   "metadata": {},
   "outputs": [
    {
     "data": {
      "text/plain": [
       "32404859"
      ]
     },
     "execution_count": 11,
     "metadata": {},
     "output_type": "execute_result"
    }
   ],
   "source": [
    "#verify the number of rows of the new list is the same as those of the imported data frame\n",
    "len(result)"
   ]
  },
  {
   "cell_type": "code",
   "execution_count": 12,
   "id": "35575540",
   "metadata": {},
   "outputs": [],
   "source": [
    "#assign the newly created list to create a new column in the data frame\n",
    "df_ords_prods_merged['busiest_day']=result"
   ]
  },
  {
   "cell_type": "code",
   "execution_count": 13,
   "id": "f76cbc57",
   "metadata": {},
   "outputs": [
    {
     "data": {
      "text/plain": [
       "Regular busy    22416875\n",
       "Busiest day      6204182\n",
       "Least busy       3783802\n",
       "Name: busiest_day, dtype: int64"
      ]
     },
     "execution_count": 13,
     "metadata": {},
     "output_type": "execute_result"
    }
   ],
   "source": [
    "#verify the results\n",
    "df_ords_prods_merged['busiest_day'].value_counts()"
   ]
  },
  {
   "cell_type": "code",
   "execution_count": 14,
   "id": "c8ccb2ca",
   "metadata": {},
   "outputs": [
    {
     "data": {
      "text/plain": [
       "32404859"
      ]
     },
     "execution_count": 14,
     "metadata": {},
     "output_type": "execute_result"
    }
   ],
   "source": [
    "# verify the total number of rows equal those of the original data frame\n",
    "22416875 + 6204182 + 3783802"
   ]
  },
  {
   "cell_type": "code",
   "execution_count": 15,
   "id": "ec8327c7",
   "metadata": {},
   "outputs": [
    {
     "data": {
      "text/html": [
       "<div>\n",
       "<style scoped>\n",
       "    .dataframe tbody tr th:only-of-type {\n",
       "        vertical-align: middle;\n",
       "    }\n",
       "\n",
       "    .dataframe tbody tr th {\n",
       "        vertical-align: top;\n",
       "    }\n",
       "\n",
       "    .dataframe thead th {\n",
       "        text-align: right;\n",
       "    }\n",
       "</style>\n",
       "<table border=\"1\" class=\"dataframe\">\n",
       "  <thead>\n",
       "    <tr style=\"text-align: right;\">\n",
       "      <th></th>\n",
       "      <th>order_id</th>\n",
       "      <th>user_id</th>\n",
       "      <th>order_number</th>\n",
       "      <th>order_dow</th>\n",
       "      <th>order_hour_of_day</th>\n",
       "      <th>days_since_prior_order</th>\n",
       "      <th>first_order_from_customer</th>\n",
       "      <th>product_id</th>\n",
       "      <th>add_to_cart_order</th>\n",
       "      <th>reordered</th>\n",
       "      <th>product_name</th>\n",
       "      <th>aisle_id</th>\n",
       "      <th>department_id</th>\n",
       "      <th>prices</th>\n",
       "      <th>price_label</th>\n",
       "      <th>busiest_day</th>\n",
       "    </tr>\n",
       "  </thead>\n",
       "  <tbody>\n",
       "    <tr>\n",
       "      <th>0</th>\n",
       "      <td>2539329</td>\n",
       "      <td>1</td>\n",
       "      <td>1</td>\n",
       "      <td>2</td>\n",
       "      <td>8</td>\n",
       "      <td>NaN</td>\n",
       "      <td>True</td>\n",
       "      <td>196</td>\n",
       "      <td>1</td>\n",
       "      <td>0</td>\n",
       "      <td>Soda</td>\n",
       "      <td>77</td>\n",
       "      <td>7</td>\n",
       "      <td>9.0</td>\n",
       "      <td>Mid-range product</td>\n",
       "      <td>Regular busy</td>\n",
       "    </tr>\n",
       "    <tr>\n",
       "      <th>1</th>\n",
       "      <td>2398795</td>\n",
       "      <td>1</td>\n",
       "      <td>2</td>\n",
       "      <td>3</td>\n",
       "      <td>7</td>\n",
       "      <td>15.0</td>\n",
       "      <td>False</td>\n",
       "      <td>196</td>\n",
       "      <td>1</td>\n",
       "      <td>1</td>\n",
       "      <td>Soda</td>\n",
       "      <td>77</td>\n",
       "      <td>7</td>\n",
       "      <td>9.0</td>\n",
       "      <td>Mid-range product</td>\n",
       "      <td>Regular busy</td>\n",
       "    </tr>\n",
       "    <tr>\n",
       "      <th>2</th>\n",
       "      <td>473747</td>\n",
       "      <td>1</td>\n",
       "      <td>3</td>\n",
       "      <td>3</td>\n",
       "      <td>12</td>\n",
       "      <td>21.0</td>\n",
       "      <td>False</td>\n",
       "      <td>196</td>\n",
       "      <td>1</td>\n",
       "      <td>1</td>\n",
       "      <td>Soda</td>\n",
       "      <td>77</td>\n",
       "      <td>7</td>\n",
       "      <td>9.0</td>\n",
       "      <td>Mid-range product</td>\n",
       "      <td>Regular busy</td>\n",
       "    </tr>\n",
       "    <tr>\n",
       "      <th>3</th>\n",
       "      <td>2254736</td>\n",
       "      <td>1</td>\n",
       "      <td>4</td>\n",
       "      <td>4</td>\n",
       "      <td>7</td>\n",
       "      <td>29.0</td>\n",
       "      <td>False</td>\n",
       "      <td>196</td>\n",
       "      <td>1</td>\n",
       "      <td>1</td>\n",
       "      <td>Soda</td>\n",
       "      <td>77</td>\n",
       "      <td>7</td>\n",
       "      <td>9.0</td>\n",
       "      <td>Mid-range product</td>\n",
       "      <td>Least busy</td>\n",
       "    </tr>\n",
       "    <tr>\n",
       "      <th>4</th>\n",
       "      <td>431534</td>\n",
       "      <td>1</td>\n",
       "      <td>5</td>\n",
       "      <td>4</td>\n",
       "      <td>15</td>\n",
       "      <td>28.0</td>\n",
       "      <td>False</td>\n",
       "      <td>196</td>\n",
       "      <td>1</td>\n",
       "      <td>1</td>\n",
       "      <td>Soda</td>\n",
       "      <td>77</td>\n",
       "      <td>7</td>\n",
       "      <td>9.0</td>\n",
       "      <td>Mid-range product</td>\n",
       "      <td>Least busy</td>\n",
       "    </tr>\n",
       "    <tr>\n",
       "      <th>...</th>\n",
       "      <td>...</td>\n",
       "      <td>...</td>\n",
       "      <td>...</td>\n",
       "      <td>...</td>\n",
       "      <td>...</td>\n",
       "      <td>...</td>\n",
       "      <td>...</td>\n",
       "      <td>...</td>\n",
       "      <td>...</td>\n",
       "      <td>...</td>\n",
       "      <td>...</td>\n",
       "      <td>...</td>\n",
       "      <td>...</td>\n",
       "      <td>...</td>\n",
       "      <td>...</td>\n",
       "      <td>...</td>\n",
       "    </tr>\n",
       "    <tr>\n",
       "      <th>32404854</th>\n",
       "      <td>1320836</td>\n",
       "      <td>202557</td>\n",
       "      <td>17</td>\n",
       "      <td>2</td>\n",
       "      <td>15</td>\n",
       "      <td>1.0</td>\n",
       "      <td>False</td>\n",
       "      <td>43553</td>\n",
       "      <td>2</td>\n",
       "      <td>1</td>\n",
       "      <td>Orange Energy Shots</td>\n",
       "      <td>64</td>\n",
       "      <td>7</td>\n",
       "      <td>3.7</td>\n",
       "      <td>Low-range product</td>\n",
       "      <td>Regular busy</td>\n",
       "    </tr>\n",
       "    <tr>\n",
       "      <th>32404855</th>\n",
       "      <td>31526</td>\n",
       "      <td>202557</td>\n",
       "      <td>18</td>\n",
       "      <td>5</td>\n",
       "      <td>11</td>\n",
       "      <td>3.0</td>\n",
       "      <td>False</td>\n",
       "      <td>43553</td>\n",
       "      <td>2</td>\n",
       "      <td>1</td>\n",
       "      <td>Orange Energy Shots</td>\n",
       "      <td>64</td>\n",
       "      <td>7</td>\n",
       "      <td>3.7</td>\n",
       "      <td>Low-range product</td>\n",
       "      <td>Regular busy</td>\n",
       "    </tr>\n",
       "    <tr>\n",
       "      <th>32404856</th>\n",
       "      <td>758936</td>\n",
       "      <td>203436</td>\n",
       "      <td>1</td>\n",
       "      <td>2</td>\n",
       "      <td>7</td>\n",
       "      <td>NaN</td>\n",
       "      <td>True</td>\n",
       "      <td>42338</td>\n",
       "      <td>4</td>\n",
       "      <td>0</td>\n",
       "      <td>Zucchini Chips, Pesto</td>\n",
       "      <td>50</td>\n",
       "      <td>19</td>\n",
       "      <td>6.9</td>\n",
       "      <td>Mid-range product</td>\n",
       "      <td>Regular busy</td>\n",
       "    </tr>\n",
       "    <tr>\n",
       "      <th>32404857</th>\n",
       "      <td>2745165</td>\n",
       "      <td>203436</td>\n",
       "      <td>2</td>\n",
       "      <td>3</td>\n",
       "      <td>5</td>\n",
       "      <td>15.0</td>\n",
       "      <td>False</td>\n",
       "      <td>42338</td>\n",
       "      <td>16</td>\n",
       "      <td>1</td>\n",
       "      <td>Zucchini Chips, Pesto</td>\n",
       "      <td>50</td>\n",
       "      <td>19</td>\n",
       "      <td>6.9</td>\n",
       "      <td>Mid-range product</td>\n",
       "      <td>Regular busy</td>\n",
       "    </tr>\n",
       "    <tr>\n",
       "      <th>32404858</th>\n",
       "      <td>3093936</td>\n",
       "      <td>205420</td>\n",
       "      <td>1</td>\n",
       "      <td>4</td>\n",
       "      <td>14</td>\n",
       "      <td>NaN</td>\n",
       "      <td>True</td>\n",
       "      <td>28818</td>\n",
       "      <td>8</td>\n",
       "      <td>0</td>\n",
       "      <td>Hot Oatmeal Multigrain Raisin</td>\n",
       "      <td>130</td>\n",
       "      <td>14</td>\n",
       "      <td>10.3</td>\n",
       "      <td>Mid-range product</td>\n",
       "      <td>Least busy</td>\n",
       "    </tr>\n",
       "  </tbody>\n",
       "</table>\n",
       "<p>32404859 rows × 16 columns</p>\n",
       "</div>"
      ],
      "text/plain": [
       "          order_id  user_id  order_number  order_dow  order_hour_of_day  \\\n",
       "0          2539329        1             1          2                  8   \n",
       "1          2398795        1             2          3                  7   \n",
       "2           473747        1             3          3                 12   \n",
       "3          2254736        1             4          4                  7   \n",
       "4           431534        1             5          4                 15   \n",
       "...            ...      ...           ...        ...                ...   \n",
       "32404854   1320836   202557            17          2                 15   \n",
       "32404855     31526   202557            18          5                 11   \n",
       "32404856    758936   203436             1          2                  7   \n",
       "32404857   2745165   203436             2          3                  5   \n",
       "32404858   3093936   205420             1          4                 14   \n",
       "\n",
       "          days_since_prior_order  first_order_from_customer  product_id  \\\n",
       "0                            NaN                       True         196   \n",
       "1                           15.0                      False         196   \n",
       "2                           21.0                      False         196   \n",
       "3                           29.0                      False         196   \n",
       "4                           28.0                      False         196   \n",
       "...                          ...                        ...         ...   \n",
       "32404854                     1.0                      False       43553   \n",
       "32404855                     3.0                      False       43553   \n",
       "32404856                     NaN                       True       42338   \n",
       "32404857                    15.0                      False       42338   \n",
       "32404858                     NaN                       True       28818   \n",
       "\n",
       "          add_to_cart_order  reordered                   product_name  \\\n",
       "0                         1          0                           Soda   \n",
       "1                         1          1                           Soda   \n",
       "2                         1          1                           Soda   \n",
       "3                         1          1                           Soda   \n",
       "4                         1          1                           Soda   \n",
       "...                     ...        ...                            ...   \n",
       "32404854                  2          1            Orange Energy Shots   \n",
       "32404855                  2          1            Orange Energy Shots   \n",
       "32404856                  4          0          Zucchini Chips, Pesto   \n",
       "32404857                 16          1          Zucchini Chips, Pesto   \n",
       "32404858                  8          0  Hot Oatmeal Multigrain Raisin   \n",
       "\n",
       "          aisle_id  department_id  prices        price_label   busiest_day  \n",
       "0               77              7     9.0  Mid-range product  Regular busy  \n",
       "1               77              7     9.0  Mid-range product  Regular busy  \n",
       "2               77              7     9.0  Mid-range product  Regular busy  \n",
       "3               77              7     9.0  Mid-range product    Least busy  \n",
       "4               77              7     9.0  Mid-range product    Least busy  \n",
       "...            ...            ...     ...                ...           ...  \n",
       "32404854        64              7     3.7  Low-range product  Regular busy  \n",
       "32404855        64              7     3.7  Low-range product  Regular busy  \n",
       "32404856        50             19     6.9  Mid-range product  Regular busy  \n",
       "32404857        50             19     6.9  Mid-range product  Regular busy  \n",
       "32404858       130             14    10.3  Mid-range product    Least busy  \n",
       "\n",
       "[32404859 rows x 16 columns]"
      ]
     },
     "execution_count": 15,
     "metadata": {},
     "output_type": "execute_result"
    }
   ],
   "source": [
    "#check the size and the presence of the new columns in the data frame\n",
    "df_ords_prods_merged"
   ]
  },
  {
   "cell_type": "markdown",
   "id": "bf4b7146",
   "metadata": {},
   "source": [
    "## Step 2 > Suppose your clients have changed their minds about the labels you created in your ```busiest_day``` column. Now, they want ```Busiest day``` to become ```Busiest days``` (plural). This label should correspond with the _two busiest days of the week_ as opposed to the single busiest day. At the same time, they’d also like to know the _two slowest days_. Create a new column for this using a suitable method."
   ]
  },
  {
   "cell_type": "code",
   "execution_count": 16,
   "id": "933c2618",
   "metadata": {},
   "outputs": [
    {
     "data": {
      "text/plain": [
       "0    6204182\n",
       "1    5660230\n",
       "6    4496490\n",
       "2    4213830\n",
       "5    4205791\n",
       "3    3840534\n",
       "4    3783802\n",
       "Name: order_dow, dtype: int64"
      ]
     },
     "execution_count": 16,
     "metadata": {},
     "output_type": "execute_result"
    }
   ],
   "source": [
    "df_ords_prods_merged['order_dow'].value_counts()"
   ]
  },
  {
   "cell_type": "markdown",
   "id": "5e34093f",
   "metadata": {},
   "source": [
    "#### the two busiest days are 0, 1\n",
    "#### the two slowest days are 3,4"
   ]
  },
  {
   "cell_type": "code",
   "execution_count": 17,
   "id": "2ac35045",
   "metadata": {},
   "outputs": [],
   "source": [
    "df_ords_prods_merged.loc[  (df_ords_prods_merged['order_dow']==0)\n",
    "                         | (df_ords_prods_merged['order_dow']==1), 'Busiest_Days'] = 'busiest days'"
   ]
  },
  {
   "cell_type": "code",
   "execution_count": 18,
   "id": "e30eb966",
   "metadata": {},
   "outputs": [],
   "source": [
    "df_ords_prods_merged.loc[  (df_ords_prods_merged['order_dow']==3)\n",
    "                         | (df_ords_prods_merged['order_dow']==4), 'Busiest_Days'] = 'slowest days'"
   ]
  },
  {
   "cell_type": "code",
   "execution_count": 19,
   "id": "d75156da",
   "metadata": {},
   "outputs": [],
   "source": [
    "df_ords_prods_merged.loc[(  df_ords_prods_merged['order_dow']==2)\n",
    "                         | (df_ords_prods_merged['order_dow']==5)\n",
    "                         | (df_ords_prods_merged['order_dow']==6), 'Busiest_Days'] = 'regular busy'"
   ]
  },
  {
   "cell_type": "markdown",
   "id": "a8dbc829",
   "metadata": {},
   "source": [
    "## Step 3 > Check the values of this new column for accuracy. Note any observations in markdown format."
   ]
  },
  {
   "cell_type": "code",
   "execution_count": 20,
   "id": "4196a3b5",
   "metadata": {},
   "outputs": [
    {
     "data": {
      "text/plain": [
       "regular busy    12916111\n",
       "busiest days    11864412\n",
       "slowest days     7624336\n",
       "Name: Busiest_Days, dtype: int64"
      ]
     },
     "execution_count": 20,
     "metadata": {},
     "output_type": "execute_result"
    }
   ],
   "source": [
    "df_ords_prods_merged['Busiest_Days'].value_counts()"
   ]
  },
  {
   "cell_type": "code",
   "execution_count": 21,
   "id": "7bbdd95c",
   "metadata": {},
   "outputs": [
    {
     "data": {
      "text/plain": [
       "32404859"
      ]
     },
     "execution_count": 21,
     "metadata": {},
     "output_type": "execute_result"
    }
   ],
   "source": [
    "#verifying the number of rows remains consistent\n",
    "12916111 + 11864412 + 7624336"
   ]
  },
  {
   "cell_type": "markdown",
   "id": "3dfe7582",
   "metadata": {},
   "source": [
    "## Step 4 > When too many users make Instacart orders at the same time, the app freezes. The senior technical officer at Instacart wants you to identify the busiest hours of the day. Rather than by hour, they want periods of time labeled \n",
    "* ```Most orders```\n",
    "* ```Average orders```, and \n",
    "* ```Fewest orders``` \n",
    "### Create a new column containing these labels called ```busiest_period_of_day```\n"
   ]
  },
  {
   "cell_type": "code",
   "execution_count": 22,
   "id": "a5a8f8d8",
   "metadata": {},
   "outputs": [
    {
     "data": {
      "text/plain": [
       "10    2761760\n",
       "11    2736140\n",
       "14    2689136\n",
       "15    2662144\n",
       "13    2660954\n",
       "12    2618532\n",
       "16    2535202\n",
       "9     2454203\n",
       "17    2087654\n",
       "8     1718118\n",
       "18    1636502\n",
       "19    1258305\n",
       "20     976156\n",
       "7      891054\n",
       "21     795637\n",
       "22     634225\n",
       "23     402316\n",
       "6      290493\n",
       "0      218769\n",
       "1      115700\n",
       "5       87961\n",
       "2       69375\n",
       "4       53242\n",
       "3       51281\n",
       "Name: order_hour_of_day, dtype: int64"
      ]
     },
     "execution_count": 22,
     "metadata": {},
     "output_type": "execute_result"
    }
   ],
   "source": [
    "# verifying the frequency or orders on a given order\n",
    "df_ords_prods_merged['order_hour_of_day'].value_counts()"
   ]
  },
  {
   "cell_type": "code",
   "execution_count": 23,
   "id": "66cced00",
   "metadata": {},
   "outputs": [],
   "source": [
    "# definition of ranges\n",
    "# most orders -- from 8 to 19 hrs -- more than 1M orders in a given hour\n",
    "# average orders -- from 0 to 1, from 6 to 7, and from 20 to 23 hrs --  between 100K and 1M in a given hour\n",
    "# fewest orders -- from 2 to 5 hrs --less than 100K orders in given hour"
   ]
  },
  {
   "cell_type": "code",
   "execution_count": 24,
   "id": "8aaa6343",
   "metadata": {},
   "outputs": [],
   "source": [
    "# define a new list for the new field\n",
    "orders_frequency=[]\n",
    "\n",
    "for hour in df_ords_prods_merged['order_hour_of_day']:\n",
    "    if (hour < 0) | (hour > 23): #out of range\n",
    "        orders_frequency.append('Invalid entry')\n",
    "    elif (hour >= 8) & (hour <= 19):\n",
    "        orders_frequency.append('Most orders')\n",
    "    elif (hour >= 2) & (hour <= 5):\n",
    "        orders_frequency.append('Fewest orders')\n",
    "    else:\n",
    "        orders_frequency.append('Average orders')"
   ]
  },
  {
   "cell_type": "code",
   "execution_count": 25,
   "id": "b1ab4deb",
   "metadata": {},
   "outputs": [
    {
     "data": {
      "text/plain": [
       "32404859"
      ]
     },
     "execution_count": 25,
     "metadata": {},
     "output_type": "execute_result"
    }
   ],
   "source": [
    "#verifying the length to be the same as the number of records in data set\n",
    "len(orders_frequency)"
   ]
  },
  {
   "cell_type": "code",
   "execution_count": 26,
   "id": "eaf2b582",
   "metadata": {},
   "outputs": [],
   "source": [
    "#create a new column/field in the data set\n",
    "df_ords_prods_merged['busiest_period_of_day']=orders_frequency"
   ]
  },
  {
   "cell_type": "code",
   "execution_count": 27,
   "id": "273d5d9c",
   "metadata": {},
   "outputs": [
    {
     "data": {
      "text/html": [
       "<div>\n",
       "<style scoped>\n",
       "    .dataframe tbody tr th:only-of-type {\n",
       "        vertical-align: middle;\n",
       "    }\n",
       "\n",
       "    .dataframe tbody tr th {\n",
       "        vertical-align: top;\n",
       "    }\n",
       "\n",
       "    .dataframe thead th {\n",
       "        text-align: right;\n",
       "    }\n",
       "</style>\n",
       "<table border=\"1\" class=\"dataframe\">\n",
       "  <thead>\n",
       "    <tr style=\"text-align: right;\">\n",
       "      <th></th>\n",
       "      <th>order_id</th>\n",
       "      <th>user_id</th>\n",
       "      <th>order_number</th>\n",
       "      <th>order_dow</th>\n",
       "      <th>order_hour_of_day</th>\n",
       "      <th>days_since_prior_order</th>\n",
       "      <th>first_order_from_customer</th>\n",
       "      <th>product_id</th>\n",
       "      <th>add_to_cart_order</th>\n",
       "      <th>reordered</th>\n",
       "      <th>product_name</th>\n",
       "      <th>aisle_id</th>\n",
       "      <th>department_id</th>\n",
       "      <th>prices</th>\n",
       "      <th>price_label</th>\n",
       "      <th>busiest_day</th>\n",
       "      <th>Busiest_Days</th>\n",
       "      <th>busiest_period_of_day</th>\n",
       "    </tr>\n",
       "  </thead>\n",
       "  <tbody>\n",
       "    <tr>\n",
       "      <th>0</th>\n",
       "      <td>2539329</td>\n",
       "      <td>1</td>\n",
       "      <td>1</td>\n",
       "      <td>2</td>\n",
       "      <td>8</td>\n",
       "      <td>NaN</td>\n",
       "      <td>True</td>\n",
       "      <td>196</td>\n",
       "      <td>1</td>\n",
       "      <td>0</td>\n",
       "      <td>Soda</td>\n",
       "      <td>77</td>\n",
       "      <td>7</td>\n",
       "      <td>9.0</td>\n",
       "      <td>Mid-range product</td>\n",
       "      <td>Regular busy</td>\n",
       "      <td>regular busy</td>\n",
       "      <td>Most orders</td>\n",
       "    </tr>\n",
       "    <tr>\n",
       "      <th>1</th>\n",
       "      <td>2398795</td>\n",
       "      <td>1</td>\n",
       "      <td>2</td>\n",
       "      <td>3</td>\n",
       "      <td>7</td>\n",
       "      <td>15.0</td>\n",
       "      <td>False</td>\n",
       "      <td>196</td>\n",
       "      <td>1</td>\n",
       "      <td>1</td>\n",
       "      <td>Soda</td>\n",
       "      <td>77</td>\n",
       "      <td>7</td>\n",
       "      <td>9.0</td>\n",
       "      <td>Mid-range product</td>\n",
       "      <td>Regular busy</td>\n",
       "      <td>slowest days</td>\n",
       "      <td>Average orders</td>\n",
       "    </tr>\n",
       "    <tr>\n",
       "      <th>2</th>\n",
       "      <td>473747</td>\n",
       "      <td>1</td>\n",
       "      <td>3</td>\n",
       "      <td>3</td>\n",
       "      <td>12</td>\n",
       "      <td>21.0</td>\n",
       "      <td>False</td>\n",
       "      <td>196</td>\n",
       "      <td>1</td>\n",
       "      <td>1</td>\n",
       "      <td>Soda</td>\n",
       "      <td>77</td>\n",
       "      <td>7</td>\n",
       "      <td>9.0</td>\n",
       "      <td>Mid-range product</td>\n",
       "      <td>Regular busy</td>\n",
       "      <td>slowest days</td>\n",
       "      <td>Most orders</td>\n",
       "    </tr>\n",
       "    <tr>\n",
       "      <th>3</th>\n",
       "      <td>2254736</td>\n",
       "      <td>1</td>\n",
       "      <td>4</td>\n",
       "      <td>4</td>\n",
       "      <td>7</td>\n",
       "      <td>29.0</td>\n",
       "      <td>False</td>\n",
       "      <td>196</td>\n",
       "      <td>1</td>\n",
       "      <td>1</td>\n",
       "      <td>Soda</td>\n",
       "      <td>77</td>\n",
       "      <td>7</td>\n",
       "      <td>9.0</td>\n",
       "      <td>Mid-range product</td>\n",
       "      <td>Least busy</td>\n",
       "      <td>slowest days</td>\n",
       "      <td>Average orders</td>\n",
       "    </tr>\n",
       "    <tr>\n",
       "      <th>4</th>\n",
       "      <td>431534</td>\n",
       "      <td>1</td>\n",
       "      <td>5</td>\n",
       "      <td>4</td>\n",
       "      <td>15</td>\n",
       "      <td>28.0</td>\n",
       "      <td>False</td>\n",
       "      <td>196</td>\n",
       "      <td>1</td>\n",
       "      <td>1</td>\n",
       "      <td>Soda</td>\n",
       "      <td>77</td>\n",
       "      <td>7</td>\n",
       "      <td>9.0</td>\n",
       "      <td>Mid-range product</td>\n",
       "      <td>Least busy</td>\n",
       "      <td>slowest days</td>\n",
       "      <td>Most orders</td>\n",
       "    </tr>\n",
       "    <tr>\n",
       "      <th>...</th>\n",
       "      <td>...</td>\n",
       "      <td>...</td>\n",
       "      <td>...</td>\n",
       "      <td>...</td>\n",
       "      <td>...</td>\n",
       "      <td>...</td>\n",
       "      <td>...</td>\n",
       "      <td>...</td>\n",
       "      <td>...</td>\n",
       "      <td>...</td>\n",
       "      <td>...</td>\n",
       "      <td>...</td>\n",
       "      <td>...</td>\n",
       "      <td>...</td>\n",
       "      <td>...</td>\n",
       "      <td>...</td>\n",
       "      <td>...</td>\n",
       "      <td>...</td>\n",
       "    </tr>\n",
       "    <tr>\n",
       "      <th>32404854</th>\n",
       "      <td>1320836</td>\n",
       "      <td>202557</td>\n",
       "      <td>17</td>\n",
       "      <td>2</td>\n",
       "      <td>15</td>\n",
       "      <td>1.0</td>\n",
       "      <td>False</td>\n",
       "      <td>43553</td>\n",
       "      <td>2</td>\n",
       "      <td>1</td>\n",
       "      <td>Orange Energy Shots</td>\n",
       "      <td>64</td>\n",
       "      <td>7</td>\n",
       "      <td>3.7</td>\n",
       "      <td>Low-range product</td>\n",
       "      <td>Regular busy</td>\n",
       "      <td>regular busy</td>\n",
       "      <td>Most orders</td>\n",
       "    </tr>\n",
       "    <tr>\n",
       "      <th>32404855</th>\n",
       "      <td>31526</td>\n",
       "      <td>202557</td>\n",
       "      <td>18</td>\n",
       "      <td>5</td>\n",
       "      <td>11</td>\n",
       "      <td>3.0</td>\n",
       "      <td>False</td>\n",
       "      <td>43553</td>\n",
       "      <td>2</td>\n",
       "      <td>1</td>\n",
       "      <td>Orange Energy Shots</td>\n",
       "      <td>64</td>\n",
       "      <td>7</td>\n",
       "      <td>3.7</td>\n",
       "      <td>Low-range product</td>\n",
       "      <td>Regular busy</td>\n",
       "      <td>regular busy</td>\n",
       "      <td>Most orders</td>\n",
       "    </tr>\n",
       "    <tr>\n",
       "      <th>32404856</th>\n",
       "      <td>758936</td>\n",
       "      <td>203436</td>\n",
       "      <td>1</td>\n",
       "      <td>2</td>\n",
       "      <td>7</td>\n",
       "      <td>NaN</td>\n",
       "      <td>True</td>\n",
       "      <td>42338</td>\n",
       "      <td>4</td>\n",
       "      <td>0</td>\n",
       "      <td>Zucchini Chips, Pesto</td>\n",
       "      <td>50</td>\n",
       "      <td>19</td>\n",
       "      <td>6.9</td>\n",
       "      <td>Mid-range product</td>\n",
       "      <td>Regular busy</td>\n",
       "      <td>regular busy</td>\n",
       "      <td>Average orders</td>\n",
       "    </tr>\n",
       "    <tr>\n",
       "      <th>32404857</th>\n",
       "      <td>2745165</td>\n",
       "      <td>203436</td>\n",
       "      <td>2</td>\n",
       "      <td>3</td>\n",
       "      <td>5</td>\n",
       "      <td>15.0</td>\n",
       "      <td>False</td>\n",
       "      <td>42338</td>\n",
       "      <td>16</td>\n",
       "      <td>1</td>\n",
       "      <td>Zucchini Chips, Pesto</td>\n",
       "      <td>50</td>\n",
       "      <td>19</td>\n",
       "      <td>6.9</td>\n",
       "      <td>Mid-range product</td>\n",
       "      <td>Regular busy</td>\n",
       "      <td>slowest days</td>\n",
       "      <td>Fewest orders</td>\n",
       "    </tr>\n",
       "    <tr>\n",
       "      <th>32404858</th>\n",
       "      <td>3093936</td>\n",
       "      <td>205420</td>\n",
       "      <td>1</td>\n",
       "      <td>4</td>\n",
       "      <td>14</td>\n",
       "      <td>NaN</td>\n",
       "      <td>True</td>\n",
       "      <td>28818</td>\n",
       "      <td>8</td>\n",
       "      <td>0</td>\n",
       "      <td>Hot Oatmeal Multigrain Raisin</td>\n",
       "      <td>130</td>\n",
       "      <td>14</td>\n",
       "      <td>10.3</td>\n",
       "      <td>Mid-range product</td>\n",
       "      <td>Least busy</td>\n",
       "      <td>slowest days</td>\n",
       "      <td>Most orders</td>\n",
       "    </tr>\n",
       "  </tbody>\n",
       "</table>\n",
       "<p>32404859 rows × 18 columns</p>\n",
       "</div>"
      ],
      "text/plain": [
       "          order_id  user_id  order_number  order_dow  order_hour_of_day  \\\n",
       "0          2539329        1             1          2                  8   \n",
       "1          2398795        1             2          3                  7   \n",
       "2           473747        1             3          3                 12   \n",
       "3          2254736        1             4          4                  7   \n",
       "4           431534        1             5          4                 15   \n",
       "...            ...      ...           ...        ...                ...   \n",
       "32404854   1320836   202557            17          2                 15   \n",
       "32404855     31526   202557            18          5                 11   \n",
       "32404856    758936   203436             1          2                  7   \n",
       "32404857   2745165   203436             2          3                  5   \n",
       "32404858   3093936   205420             1          4                 14   \n",
       "\n",
       "          days_since_prior_order  first_order_from_customer  product_id  \\\n",
       "0                            NaN                       True         196   \n",
       "1                           15.0                      False         196   \n",
       "2                           21.0                      False         196   \n",
       "3                           29.0                      False         196   \n",
       "4                           28.0                      False         196   \n",
       "...                          ...                        ...         ...   \n",
       "32404854                     1.0                      False       43553   \n",
       "32404855                     3.0                      False       43553   \n",
       "32404856                     NaN                       True       42338   \n",
       "32404857                    15.0                      False       42338   \n",
       "32404858                     NaN                       True       28818   \n",
       "\n",
       "          add_to_cart_order  reordered                   product_name  \\\n",
       "0                         1          0                           Soda   \n",
       "1                         1          1                           Soda   \n",
       "2                         1          1                           Soda   \n",
       "3                         1          1                           Soda   \n",
       "4                         1          1                           Soda   \n",
       "...                     ...        ...                            ...   \n",
       "32404854                  2          1            Orange Energy Shots   \n",
       "32404855                  2          1            Orange Energy Shots   \n",
       "32404856                  4          0          Zucchini Chips, Pesto   \n",
       "32404857                 16          1          Zucchini Chips, Pesto   \n",
       "32404858                  8          0  Hot Oatmeal Multigrain Raisin   \n",
       "\n",
       "          aisle_id  department_id  prices        price_label   busiest_day  \\\n",
       "0               77              7     9.0  Mid-range product  Regular busy   \n",
       "1               77              7     9.0  Mid-range product  Regular busy   \n",
       "2               77              7     9.0  Mid-range product  Regular busy   \n",
       "3               77              7     9.0  Mid-range product    Least busy   \n",
       "4               77              7     9.0  Mid-range product    Least busy   \n",
       "...            ...            ...     ...                ...           ...   \n",
       "32404854        64              7     3.7  Low-range product  Regular busy   \n",
       "32404855        64              7     3.7  Low-range product  Regular busy   \n",
       "32404856        50             19     6.9  Mid-range product  Regular busy   \n",
       "32404857        50             19     6.9  Mid-range product  Regular busy   \n",
       "32404858       130             14    10.3  Mid-range product    Least busy   \n",
       "\n",
       "          Busiest_Days busiest_period_of_day  \n",
       "0         regular busy           Most orders  \n",
       "1         slowest days        Average orders  \n",
       "2         slowest days           Most orders  \n",
       "3         slowest days        Average orders  \n",
       "4         slowest days           Most orders  \n",
       "...                ...                   ...  \n",
       "32404854  regular busy           Most orders  \n",
       "32404855  regular busy           Most orders  \n",
       "32404856  regular busy        Average orders  \n",
       "32404857  slowest days         Fewest orders  \n",
       "32404858  slowest days           Most orders  \n",
       "\n",
       "[32404859 rows x 18 columns]"
      ]
     },
     "execution_count": 27,
     "metadata": {},
     "output_type": "execute_result"
    }
   ],
   "source": [
    "df_ords_prods_merged"
   ]
  },
  {
   "cell_type": "markdown",
   "id": "d5bd0f18",
   "metadata": {},
   "source": [
    "## Step 5 > Print the frequency for this new column"
   ]
  },
  {
   "cell_type": "code",
   "execution_count": 28,
   "id": "777b3bcf",
   "metadata": {},
   "outputs": [
    {
     "data": {
      "text/plain": [
       "Most orders       27818650\n",
       "Average orders     4324350\n",
       "Fewest orders       261859\n",
       "Name: busiest_period_of_day, dtype: int64"
      ]
     },
     "execution_count": 28,
     "metadata": {},
     "output_type": "execute_result"
    }
   ],
   "source": [
    "df_ords_prods_merged['busiest_period_of_day'].value_counts()"
   ]
  },
  {
   "cell_type": "code",
   "execution_count": 29,
   "id": "8e72bae6",
   "metadata": {},
   "outputs": [
    {
     "data": {
      "text/plain": [
       "32404859"
      ]
     },
     "execution_count": 29,
     "metadata": {},
     "output_type": "execute_result"
    }
   ],
   "source": [
    "#verifying total number of entries\n",
    "27818650 + 4324350 + 261859"
   ]
  },
  {
   "cell_type": "markdown",
   "id": "343d9028",
   "metadata": {},
   "source": [
    "## Step 7 > Export your dataframe as a pickle file (since you added new columns) and store it correctly in your “Prepared Data” folder"
   ]
  },
  {
   "cell_type": "code",
   "execution_count": 30,
   "id": "068f8b60",
   "metadata": {},
   "outputs": [],
   "source": [
    "df_ords_prods_merged.to_pickle(os.path.join(ICpath,'02 Data','Prepared Data','orders_products_derived_fields.pkl'))"
   ]
  },
  {
   "cell_type": "code",
   "execution_count": 31,
   "id": "1cee9497",
   "metadata": {},
   "outputs": [
    {
     "name": "stdout",
     "output_type": "stream",
     "text": [
      " time to run this notebook h:mm:ss:  0:00:41.719077\n"
     ]
    }
   ],
   "source": [
    "# fyi only - to track performance of this notebook \n",
    "print(' time to run this notebook h:mm:ss: ', datetime.now() - start)"
   ]
  },
  {
   "cell_type": "code",
   "execution_count": 32,
   "id": "00bea6c1",
   "metadata": {},
   "outputs": [
    {
     "data": {
      "text/plain": [
       "(32404859, 18)"
      ]
     },
     "execution_count": 32,
     "metadata": {},
     "output_type": "execute_result"
    }
   ],
   "source": [
    "df_ords_prods_merged.shape"
   ]
  },
  {
   "cell_type": "code",
   "execution_count": null,
   "id": "783ec61f",
   "metadata": {},
   "outputs": [],
   "source": []
  }
 ],
 "metadata": {
  "kernelspec": {
   "display_name": "Python 3 (ipykernel)",
   "language": "python",
   "name": "python3"
  },
  "language_info": {
   "codemirror_mode": {
    "name": "ipython",
    "version": 3
   },
   "file_extension": ".py",
   "mimetype": "text/x-python",
   "name": "python",
   "nbconvert_exporter": "python",
   "pygments_lexer": "ipython3",
   "version": "3.9.13"
  }
 },
 "nbformat": 4,
 "nbformat_minor": 5
}
