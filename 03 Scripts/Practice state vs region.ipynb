{
 "cells": [
  {
   "cell_type": "code",
   "execution_count": 18,
   "id": "a47816c9",
   "metadata": {},
   "outputs": [
    {
     "data": {
      "text/plain": [
       "51"
      ]
     },
     "execution_count": 18,
     "metadata": {},
     "output_type": "execute_result"
    }
   ],
   "source": [
    "states = ['Alaska', 'Arizona', 'California',\n",
    "          'Alabama','Arkansas',\n",
    "          'Connecticut', 'Maine',\n",
    "          'Illinois','Indiana']\n",
    "West = ['Arizona','Alaska','California','Colorado','Hawaii','Idaho','Montana','Nevada','New Mexico', 'Oregon', 'Utah', 'Washington', 'Wyoming']\n",
    "South = ['Alabama', 'Arkansas', 'Delaware', 'District of Columbia', 'Florida', 'Georgia', 'Kentucky', 'Louisiana', 'Maryland', 'Mississippi', 'North Carolina', 'Oklahoma', 'South Carolina', 'Tennessee', 'Texas', 'Virginia', 'West Virginia']\n",
    "Northeast = ['Connecticut', 'Maine', 'Massachusetts','New Hampshire', 'New Jersey', 'New York','Pennsylvania', 'Rhode Island', 'Vermont']\n",
    "Midwest = ['Illinois', 'Indiana', 'Iowa', 'Kansas','Michigan','Minnesota', 'Missouri', 'Nebraska','North Dakota', 'Ohio','South Dakota', 'Wisconsin']\n",
    "len(West)+len(Northeast)+len(South)+len(Midwest)"
   ]
  },
  {
   "cell_type": "code",
   "execution_count": 16,
   "id": "6f3e767d",
   "metadata": {},
   "outputs": [
    {
     "name": "stdout",
     "output_type": "stream",
     "text": [
      "Alaska : West\n",
      "Arizona : West\n",
      "California : West\n",
      "Alabama : South\n",
      "Arkansas : South\n",
      "Connecticut :Northeast\n",
      "Maine :Northeast\n",
      "Illinois : Midwest\n",
      "Indiana : Midwest\n"
     ]
    }
   ],
   "source": [
    "for x in states:\n",
    "    if x in West:\n",
    "        print(x, ': West')\n",
    "    elif x in South:\n",
    "        print(x, ': South')\n",
    "    elif x in Northeast:\n",
    "        print(x, ':Northeast')\n",
    "    elif x in Midwest:\n",
    "        print(x, ': Midwest')\n",
    "    else:\n",
    "        print(x, ': Not Found')"
   ]
  },
  {
   "cell_type": "code",
   "execution_count": null,
   "id": "6c83a8a4",
   "metadata": {},
   "outputs": [],
   "source": [
    "'Alaska':'West', 'Arizona':'West', 'California':'West', 'Colorado':'West',\n",
    "                'Hawaii':'West', 'Idaho':'West', 'Montana':'West', 'Nevada':'West','New Mexico':'West',\n",
    "                'Oregon':'West', 'Utah':'West', 'Washington':'West', 'Wyoming':'West',\n",
    "                'Alabama':'South', 'Arkansas':'South', 'Delaware':'South', 'District of Columbia':'South',\n",
    "                'Florida':'South', 'Georgia':'South', 'Kentucky':'South', 'Louisiana':'South', 'Maryland':'South',\n",
    "                'Mississippi':'South', 'North Carolina':'South', 'Oklahoma':'South', 'South Carolina':'South',\n",
    "                'Tennessee':'South','Texas':'South', 'Virginia':'South', 'West Virginia':'South',\n",
    "                'Connecticut':'Northeast', 'Maine':'Northeast', 'Massachusetts':'Northeast',\n",
    "                'New Hampshire':'Northeast', 'New Jersey':'Northeast', 'New York':'Northeast',\n",
    "                'Pennsylvania':'Northeast', 'Rhode Island':'Northeast', 'Vermont':'Northeast',\n",
    "                'Illinois':'Midwest', 'Indiana':'Midwest', 'Iowa':'Midwest', 'Kansas':'Midwest',\n",
    "                'Michigan':'Midwest','Minnesota':'Midwest', 'Missouri':'Midwest', 'Nebraska':'Midwest',\n",
    "                'North Dakota':'Midwest', 'Ohio':'Midwest','South Dakota':'Midwest', 'Wisconsin':'Midwest'}"
   ]
  }
 ],
 "metadata": {
  "kernelspec": {
   "display_name": "Python 3 (ipykernel)",
   "language": "python",
   "name": "python3"
  },
  "language_info": {
   "codemirror_mode": {
    "name": "ipython",
    "version": 3
   },
   "file_extension": ".py",
   "mimetype": "text/x-python",
   "name": "python",
   "nbconvert_exporter": "python",
   "pygments_lexer": "ipython3",
   "version": "3.9.13"
  }
 },
 "nbformat": 4,
 "nbformat_minor": 5
}
