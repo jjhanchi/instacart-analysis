{
 "cells": [
  {
   "cell_type": "code",
   "execution_count": 1,
   "id": "f23bebe2",
   "metadata": {},
   "outputs": [],
   "source": [
    "# import libraries\n",
    "import pandas as pd\n",
    "import numpy as np\n",
    "import os\n",
    "\n",
    "import matplotlib.pyplot as plt\n",
    "import seaborn as sns\n",
    "import scipy"
   ]
  },
  {
   "cell_type": "code",
   "execution_count": 2,
   "id": "f14391f4",
   "metadata": {},
   "outputs": [
    {
     "data": {
      "text/html": [
       "<div>\n",
       "<style scoped>\n",
       "    .dataframe tbody tr th:only-of-type {\n",
       "        vertical-align: middle;\n",
       "    }\n",
       "\n",
       "    .dataframe tbody tr th {\n",
       "        vertical-align: top;\n",
       "    }\n",
       "\n",
       "    .dataframe thead th {\n",
       "        text-align: right;\n",
       "    }\n",
       "</style>\n",
       "<table border=\"1\" class=\"dataframe\">\n",
       "  <thead>\n",
       "    <tr style=\"text-align: right;\">\n",
       "      <th></th>\n",
       "      <th>order_id</th>\n",
       "      <th>user_id</th>\n",
       "      <th>order_number</th>\n",
       "      <th>order_day_of_week</th>\n",
       "      <th>order_hour_of_day</th>\n",
       "      <th>days_since_prior_order</th>\n",
       "      <th>first_order_from_customer</th>\n",
       "      <th>product_id</th>\n",
       "      <th>add_to_cart_order</th>\n",
       "      <th>reordered</th>\n",
       "      <th>...</th>\n",
       "      <th>department_id</th>\n",
       "      <th>prices</th>\n",
       "      <th>price_label</th>\n",
       "      <th>busiest_day</th>\n",
       "      <th>Busiest_Days</th>\n",
       "      <th>busiest_period_of_day</th>\n",
       "      <th>max_order</th>\n",
       "      <th>loyalty_flag</th>\n",
       "      <th>spending_flag</th>\n",
       "      <th>order_frequency_flag</th>\n",
       "    </tr>\n",
       "  </thead>\n",
       "  <tbody>\n",
       "    <tr>\n",
       "      <th>0</th>\n",
       "      <td>2539329</td>\n",
       "      <td>1</td>\n",
       "      <td>1</td>\n",
       "      <td>2</td>\n",
       "      <td>8</td>\n",
       "      <td>NaN</td>\n",
       "      <td>True</td>\n",
       "      <td>196</td>\n",
       "      <td>1</td>\n",
       "      <td>0</td>\n",
       "      <td>...</td>\n",
       "      <td>7</td>\n",
       "      <td>9.0</td>\n",
       "      <td>Mid-range product</td>\n",
       "      <td>Regular busy</td>\n",
       "      <td>regular busy</td>\n",
       "      <td>Most orders</td>\n",
       "      <td>10</td>\n",
       "      <td>New customer</td>\n",
       "      <td>Low spender</td>\n",
       "      <td>Non-frequent customer</td>\n",
       "    </tr>\n",
       "    <tr>\n",
       "      <th>1</th>\n",
       "      <td>2398795</td>\n",
       "      <td>1</td>\n",
       "      <td>2</td>\n",
       "      <td>3</td>\n",
       "      <td>7</td>\n",
       "      <td>15.0</td>\n",
       "      <td>False</td>\n",
       "      <td>196</td>\n",
       "      <td>1</td>\n",
       "      <td>1</td>\n",
       "      <td>...</td>\n",
       "      <td>7</td>\n",
       "      <td>9.0</td>\n",
       "      <td>Mid-range product</td>\n",
       "      <td>Regular busy</td>\n",
       "      <td>slowest days</td>\n",
       "      <td>Average orders</td>\n",
       "      <td>10</td>\n",
       "      <td>New customer</td>\n",
       "      <td>Low spender</td>\n",
       "      <td>Non-frequent customer</td>\n",
       "    </tr>\n",
       "    <tr>\n",
       "      <th>2</th>\n",
       "      <td>473747</td>\n",
       "      <td>1</td>\n",
       "      <td>3</td>\n",
       "      <td>3</td>\n",
       "      <td>12</td>\n",
       "      <td>21.0</td>\n",
       "      <td>False</td>\n",
       "      <td>196</td>\n",
       "      <td>1</td>\n",
       "      <td>1</td>\n",
       "      <td>...</td>\n",
       "      <td>7</td>\n",
       "      <td>9.0</td>\n",
       "      <td>Mid-range product</td>\n",
       "      <td>Regular busy</td>\n",
       "      <td>slowest days</td>\n",
       "      <td>Most orders</td>\n",
       "      <td>10</td>\n",
       "      <td>New customer</td>\n",
       "      <td>Low spender</td>\n",
       "      <td>Non-frequent customer</td>\n",
       "    </tr>\n",
       "    <tr>\n",
       "      <th>3</th>\n",
       "      <td>2254736</td>\n",
       "      <td>1</td>\n",
       "      <td>4</td>\n",
       "      <td>4</td>\n",
       "      <td>7</td>\n",
       "      <td>29.0</td>\n",
       "      <td>False</td>\n",
       "      <td>196</td>\n",
       "      <td>1</td>\n",
       "      <td>1</td>\n",
       "      <td>...</td>\n",
       "      <td>7</td>\n",
       "      <td>9.0</td>\n",
       "      <td>Mid-range product</td>\n",
       "      <td>Least busy</td>\n",
       "      <td>slowest days</td>\n",
       "      <td>Average orders</td>\n",
       "      <td>10</td>\n",
       "      <td>New customer</td>\n",
       "      <td>Low spender</td>\n",
       "      <td>Non-frequent customer</td>\n",
       "    </tr>\n",
       "    <tr>\n",
       "      <th>4</th>\n",
       "      <td>431534</td>\n",
       "      <td>1</td>\n",
       "      <td>5</td>\n",
       "      <td>4</td>\n",
       "      <td>15</td>\n",
       "      <td>28.0</td>\n",
       "      <td>False</td>\n",
       "      <td>196</td>\n",
       "      <td>1</td>\n",
       "      <td>1</td>\n",
       "      <td>...</td>\n",
       "      <td>7</td>\n",
       "      <td>9.0</td>\n",
       "      <td>Mid-range product</td>\n",
       "      <td>Least busy</td>\n",
       "      <td>slowest days</td>\n",
       "      <td>Most orders</td>\n",
       "      <td>10</td>\n",
       "      <td>New customer</td>\n",
       "      <td>Low spender</td>\n",
       "      <td>Non-frequent customer</td>\n",
       "    </tr>\n",
       "    <tr>\n",
       "      <th>...</th>\n",
       "      <td>...</td>\n",
       "      <td>...</td>\n",
       "      <td>...</td>\n",
       "      <td>...</td>\n",
       "      <td>...</td>\n",
       "      <td>...</td>\n",
       "      <td>...</td>\n",
       "      <td>...</td>\n",
       "      <td>...</td>\n",
       "      <td>...</td>\n",
       "      <td>...</td>\n",
       "      <td>...</td>\n",
       "      <td>...</td>\n",
       "      <td>...</td>\n",
       "      <td>...</td>\n",
       "      <td>...</td>\n",
       "      <td>...</td>\n",
       "      <td>...</td>\n",
       "      <td>...</td>\n",
       "      <td>...</td>\n",
       "      <td>...</td>\n",
       "    </tr>\n",
       "    <tr>\n",
       "      <th>32404854</th>\n",
       "      <td>1320836</td>\n",
       "      <td>202557</td>\n",
       "      <td>17</td>\n",
       "      <td>2</td>\n",
       "      <td>15</td>\n",
       "      <td>1.0</td>\n",
       "      <td>False</td>\n",
       "      <td>43553</td>\n",
       "      <td>2</td>\n",
       "      <td>1</td>\n",
       "      <td>...</td>\n",
       "      <td>7</td>\n",
       "      <td>3.7</td>\n",
       "      <td>Low-range product</td>\n",
       "      <td>Regular busy</td>\n",
       "      <td>regular busy</td>\n",
       "      <td>Most orders</td>\n",
       "      <td>31</td>\n",
       "      <td>Regular customer</td>\n",
       "      <td>Low spender</td>\n",
       "      <td>Frequent customer</td>\n",
       "    </tr>\n",
       "    <tr>\n",
       "      <th>32404855</th>\n",
       "      <td>31526</td>\n",
       "      <td>202557</td>\n",
       "      <td>18</td>\n",
       "      <td>5</td>\n",
       "      <td>11</td>\n",
       "      <td>3.0</td>\n",
       "      <td>False</td>\n",
       "      <td>43553</td>\n",
       "      <td>2</td>\n",
       "      <td>1</td>\n",
       "      <td>...</td>\n",
       "      <td>7</td>\n",
       "      <td>3.7</td>\n",
       "      <td>Low-range product</td>\n",
       "      <td>Regular busy</td>\n",
       "      <td>regular busy</td>\n",
       "      <td>Most orders</td>\n",
       "      <td>31</td>\n",
       "      <td>Regular customer</td>\n",
       "      <td>Low spender</td>\n",
       "      <td>Frequent customer</td>\n",
       "    </tr>\n",
       "    <tr>\n",
       "      <th>32404856</th>\n",
       "      <td>758936</td>\n",
       "      <td>203436</td>\n",
       "      <td>1</td>\n",
       "      <td>2</td>\n",
       "      <td>7</td>\n",
       "      <td>NaN</td>\n",
       "      <td>True</td>\n",
       "      <td>42338</td>\n",
       "      <td>4</td>\n",
       "      <td>0</td>\n",
       "      <td>...</td>\n",
       "      <td>19</td>\n",
       "      <td>6.9</td>\n",
       "      <td>Mid-range product</td>\n",
       "      <td>Regular busy</td>\n",
       "      <td>regular busy</td>\n",
       "      <td>Average orders</td>\n",
       "      <td>3</td>\n",
       "      <td>New customer</td>\n",
       "      <td>Low spender</td>\n",
       "      <td>Regular customer</td>\n",
       "    </tr>\n",
       "    <tr>\n",
       "      <th>32404857</th>\n",
       "      <td>2745165</td>\n",
       "      <td>203436</td>\n",
       "      <td>2</td>\n",
       "      <td>3</td>\n",
       "      <td>5</td>\n",
       "      <td>15.0</td>\n",
       "      <td>False</td>\n",
       "      <td>42338</td>\n",
       "      <td>16</td>\n",
       "      <td>1</td>\n",
       "      <td>...</td>\n",
       "      <td>19</td>\n",
       "      <td>6.9</td>\n",
       "      <td>Mid-range product</td>\n",
       "      <td>Regular busy</td>\n",
       "      <td>slowest days</td>\n",
       "      <td>Fewest orders</td>\n",
       "      <td>3</td>\n",
       "      <td>New customer</td>\n",
       "      <td>Low spender</td>\n",
       "      <td>Regular customer</td>\n",
       "    </tr>\n",
       "    <tr>\n",
       "      <th>32404858</th>\n",
       "      <td>3093936</td>\n",
       "      <td>205420</td>\n",
       "      <td>1</td>\n",
       "      <td>4</td>\n",
       "      <td>14</td>\n",
       "      <td>NaN</td>\n",
       "      <td>True</td>\n",
       "      <td>28818</td>\n",
       "      <td>8</td>\n",
       "      <td>0</td>\n",
       "      <td>...</td>\n",
       "      <td>14</td>\n",
       "      <td>10.3</td>\n",
       "      <td>Mid-range product</td>\n",
       "      <td>Least busy</td>\n",
       "      <td>slowest days</td>\n",
       "      <td>Most orders</td>\n",
       "      <td>16</td>\n",
       "      <td>Regular customer</td>\n",
       "      <td>Low spender</td>\n",
       "      <td>Regular customer</td>\n",
       "    </tr>\n",
       "  </tbody>\n",
       "</table>\n",
       "<p>32404859 rows × 22 columns</p>\n",
       "</div>"
      ],
      "text/plain": [
       "          order_id  user_id  order_number  order_day_of_week  \\\n",
       "0          2539329        1             1                  2   \n",
       "1          2398795        1             2                  3   \n",
       "2           473747        1             3                  3   \n",
       "3          2254736        1             4                  4   \n",
       "4           431534        1             5                  4   \n",
       "...            ...      ...           ...                ...   \n",
       "32404854   1320836   202557            17                  2   \n",
       "32404855     31526   202557            18                  5   \n",
       "32404856    758936   203436             1                  2   \n",
       "32404857   2745165   203436             2                  3   \n",
       "32404858   3093936   205420             1                  4   \n",
       "\n",
       "          order_hour_of_day  days_since_prior_order  \\\n",
       "0                         8                     NaN   \n",
       "1                         7                    15.0   \n",
       "2                        12                    21.0   \n",
       "3                         7                    29.0   \n",
       "4                        15                    28.0   \n",
       "...                     ...                     ...   \n",
       "32404854                 15                     1.0   \n",
       "32404855                 11                     3.0   \n",
       "32404856                  7                     NaN   \n",
       "32404857                  5                    15.0   \n",
       "32404858                 14                     NaN   \n",
       "\n",
       "          first_order_from_customer  product_id  add_to_cart_order  reordered  \\\n",
       "0                              True         196                  1          0   \n",
       "1                             False         196                  1          1   \n",
       "2                             False         196                  1          1   \n",
       "3                             False         196                  1          1   \n",
       "4                             False         196                  1          1   \n",
       "...                             ...         ...                ...        ...   \n",
       "32404854                      False       43553                  2          1   \n",
       "32404855                      False       43553                  2          1   \n",
       "32404856                       True       42338                  4          0   \n",
       "32404857                      False       42338                 16          1   \n",
       "32404858                       True       28818                  8          0   \n",
       "\n",
       "          ... department_id  prices        price_label   busiest_day  \\\n",
       "0         ...             7     9.0  Mid-range product  Regular busy   \n",
       "1         ...             7     9.0  Mid-range product  Regular busy   \n",
       "2         ...             7     9.0  Mid-range product  Regular busy   \n",
       "3         ...             7     9.0  Mid-range product    Least busy   \n",
       "4         ...             7     9.0  Mid-range product    Least busy   \n",
       "...       ...           ...     ...                ...           ...   \n",
       "32404854  ...             7     3.7  Low-range product  Regular busy   \n",
       "32404855  ...             7     3.7  Low-range product  Regular busy   \n",
       "32404856  ...            19     6.9  Mid-range product  Regular busy   \n",
       "32404857  ...            19     6.9  Mid-range product  Regular busy   \n",
       "32404858  ...            14    10.3  Mid-range product    Least busy   \n",
       "\n",
       "          Busiest_Days busiest_period_of_day max_order      loyalty_flag  \\\n",
       "0         regular busy           Most orders        10      New customer   \n",
       "1         slowest days        Average orders        10      New customer   \n",
       "2         slowest days           Most orders        10      New customer   \n",
       "3         slowest days        Average orders        10      New customer   \n",
       "4         slowest days           Most orders        10      New customer   \n",
       "...                ...                   ...       ...               ...   \n",
       "32404854  regular busy           Most orders        31  Regular customer   \n",
       "32404855  regular busy           Most orders        31  Regular customer   \n",
       "32404856  regular busy        Average orders         3      New customer   \n",
       "32404857  slowest days         Fewest orders         3      New customer   \n",
       "32404858  slowest days           Most orders        16  Regular customer   \n",
       "\n",
       "          spending_flag   order_frequency_flag  \n",
       "0           Low spender  Non-frequent customer  \n",
       "1           Low spender  Non-frequent customer  \n",
       "2           Low spender  Non-frequent customer  \n",
       "3           Low spender  Non-frequent customer  \n",
       "4           Low spender  Non-frequent customer  \n",
       "...                 ...                    ...  \n",
       "32404854    Low spender      Frequent customer  \n",
       "32404855    Low spender      Frequent customer  \n",
       "32404856    Low spender       Regular customer  \n",
       "32404857    Low spender       Regular customer  \n",
       "32404858    Low spender       Regular customer  \n",
       "\n",
       "[32404859 rows x 22 columns]"
      ]
     },
     "execution_count": 2,
     "metadata": {},
     "output_type": "execute_result"
    }
   ],
   "source": [
    "# define root directory\n",
    "ICpath = r'C:\\Users\\joseh\\Instacart Basket Analysis'\n",
    "\n",
    "# import dataset \n",
    "ords_prods_merge = pd.read_pickle(os.path.join(ICpath, '02 Data','Prepared Data','orders_products_aggregated.pkl'))\n",
    "ords_prods_merge.rename(columns={'order_dow':'order_day_of_week'}, inplace=True)\n",
    "ords_prods_merge"
   ]
  },
  {
   "cell_type": "code",
   "execution_count": 12,
   "id": "b1327389",
   "metadata": {},
   "outputs": [
    {
     "data": {
      "text/plain": [
       "<AxesSubplot:>"
      ]
     },
     "execution_count": 12,
     "metadata": {},
     "output_type": "execute_result"
    },
    {
     "data": {
      "image/png": "[encoded data removed]",
      "text/plain": [
       "<Figure size 640x480 with 1 Axes>"
      ]
     },
     "metadata": {},
     "output_type": "display_data"
    }
   ],
   "source": [
    "ords_prods_merge['order_day_of_week'].value_counts().sort_index().plot.bar()"
   ]
  },
  {
   "cell_type": "code",
   "execution_count": 17,
   "id": "571a721f",
   "metadata": {
    "scrolled": true
   },
   "outputs": [
    {
     "data": {
      "image/png": "[encoded data removed]",
      "text/plain": [
       "<Figure size 640x480 with 1 Axes>"
      ]
     },
     "metadata": {},
     "output_type": "display_data"
    }
   ],
   "source": [
    "bar = ords_prods_merge['order_day_of_week'].value_counts().plot.bar()\n",
    "bar.figure.savefig(os.path.join(ICpath,'04 Analysis','Visualizations','bar_orders_dow.png.png'))"
   ]
  },
  {
   "cell_type": "code",
   "execution_count": 26,
   "id": "e3603f3c",
   "metadata": {},
   "outputs": [
    {
     "data": {
      "text/plain": [
       "<AxesSubplot:ylabel='Frequency'>"
      ]
     },
     "execution_count": 26,
     "metadata": {},
     "output_type": "execute_result"
    },
    {
     "data": {
      "image/png": "[encoded data removed]",
      "text/plain": [
       "<Figure size 640x480 with 1 Axes>"
      ]
     },
     "metadata": {},
     "output_type": "display_data"
    }
   ],
   "source": [
    "# creating histograms\n",
    "ords_prods_merge['prices'].plot.hist(bins=70)"
   ]
  },
  {
   "cell_type": "code",
   "execution_count": 25,
   "id": "d9d8c131",
   "metadata": {},
   "outputs": [
    {
     "data": {
      "text/plain": [
       "count    3.240486e+07\n",
       "mean     7.790483e+00\n",
       "std      4.241669e+00\n",
       "min      1.000000e+00\n",
       "25%      4.200000e+00\n",
       "50%      7.400000e+00\n",
       "75%      1.130000e+01\n",
       "max      2.500000e+01\n",
       "Name: prices, dtype: float64"
      ]
     },
     "execution_count": 25,
     "metadata": {},
     "output_type": "execute_result"
    }
   ],
   "source": [
    "ords_prods_merge['prices'].describe()"
   ]
  },
  {
   "cell_type": "code",
   "execution_count": 27,
   "id": "56fda62f",
   "metadata": {},
   "outputs": [],
   "source": [
    "np.random.seed(4)\n",
    "sample70 = np.random.rand(len(ords_prods_merge)) <= 0.7"
   ]
  },
  {
   "cell_type": "code",
   "execution_count": 28,
   "id": "d9991eff",
   "metadata": {},
   "outputs": [
    {
     "data": {
      "text/plain": [
       "32404859"
      ]
     },
     "execution_count": 28,
     "metadata": {},
     "output_type": "execute_result"
    }
   ],
   "source": [
    "len(sample70)"
   ]
  },
  {
   "cell_type": "code",
   "execution_count": 31,
   "id": "7e1cfe4f",
   "metadata": {},
   "outputs": [
    {
     "data": {
      "text/plain": [
       "0.7000111001871664"
      ]
     },
     "execution_count": 31,
     "metadata": {},
     "output_type": "execute_result"
    }
   ],
   "source": [
    "sample70.sum()/len(sample70)"
   ]
  },
  {
   "cell_type": "code",
   "execution_count": 53,
   "id": "7c81fda3",
   "metadata": {},
   "outputs": [],
   "source": [
    "# create a large sample with appx 70% of all entries\n",
    "large_sample = ords_prods_merge[sample70]\n",
    "\n",
    "# and a small sample with the remaining appx 30%\n",
    "small_sample = ords_prods_merge[~sample70]"
   ]
  },
  {
   "cell_type": "code",
   "execution_count": 54,
   "id": "995ff9f9",
   "metadata": {},
   "outputs": [
    {
     "data": {
      "text/plain": [
       "32404859"
      ]
     },
     "execution_count": 54,
     "metadata": {},
     "output_type": "execute_result"
    }
   ],
   "source": [
    "#checking the size of both samples are complimentary\n",
    "len(large_sample)+len(small_sample)"
   ]
  },
  {
   "cell_type": "code",
   "execution_count": 56,
   "id": "e494c92b",
   "metadata": {},
   "outputs": [],
   "source": [
    "# extract only the columns of interest\n",
    "df2 = small_sample[['order_day_of_week','prices']]"
   ]
  },
  {
   "cell_type": "code",
   "execution_count": 57,
   "id": "91a466bc",
   "metadata": {},
   "outputs": [
    {
     "data": {
      "text/html": [
       "<div>\n",
       "<style scoped>\n",
       "    .dataframe tbody tr th:only-of-type {\n",
       "        vertical-align: middle;\n",
       "    }\n",
       "\n",
       "    .dataframe tbody tr th {\n",
       "        vertical-align: top;\n",
       "    }\n",
       "\n",
       "    .dataframe thead th {\n",
       "        text-align: right;\n",
       "    }\n",
       "</style>\n",
       "<table border=\"1\" class=\"dataframe\">\n",
       "  <thead>\n",
       "    <tr style=\"text-align: right;\">\n",
       "      <th></th>\n",
       "      <th>order_day_of_week</th>\n",
       "      <th>prices</th>\n",
       "    </tr>\n",
       "  </thead>\n",
       "  <tbody>\n",
       "    <tr>\n",
       "      <th>0</th>\n",
       "      <td>2</td>\n",
       "      <td>9.0</td>\n",
       "    </tr>\n",
       "    <tr>\n",
       "      <th>2</th>\n",
       "      <td>3</td>\n",
       "      <td>9.0</td>\n",
       "    </tr>\n",
       "    <tr>\n",
       "      <th>3</th>\n",
       "      <td>4</td>\n",
       "      <td>9.0</td>\n",
       "    </tr>\n",
       "    <tr>\n",
       "      <th>6</th>\n",
       "      <td>1</td>\n",
       "      <td>9.0</td>\n",
       "    </tr>\n",
       "    <tr>\n",
       "      <th>10</th>\n",
       "      <td>1</td>\n",
       "      <td>9.0</td>\n",
       "    </tr>\n",
       "    <tr>\n",
       "      <th>...</th>\n",
       "      <td>...</td>\n",
       "      <td>...</td>\n",
       "    </tr>\n",
       "    <tr>\n",
       "      <th>32404841</th>\n",
       "      <td>1</td>\n",
       "      <td>8.8</td>\n",
       "    </tr>\n",
       "    <tr>\n",
       "      <th>32404842</th>\n",
       "      <td>2</td>\n",
       "      <td>8.8</td>\n",
       "    </tr>\n",
       "    <tr>\n",
       "      <th>32404843</th>\n",
       "      <td>0</td>\n",
       "      <td>3.7</td>\n",
       "    </tr>\n",
       "    <tr>\n",
       "      <th>32404849</th>\n",
       "      <td>3</td>\n",
       "      <td>3.7</td>\n",
       "    </tr>\n",
       "    <tr>\n",
       "      <th>32404850</th>\n",
       "      <td>4</td>\n",
       "      <td>3.7</td>\n",
       "    </tr>\n",
       "  </tbody>\n",
       "</table>\n",
       "<p>9721098 rows × 2 columns</p>\n",
       "</div>"
      ],
      "text/plain": [
       "          order_day_of_week  prices\n",
       "0                         2     9.0\n",
       "2                         3     9.0\n",
       "3                         4     9.0\n",
       "6                         1     9.0\n",
       "10                        1     9.0\n",
       "...                     ...     ...\n",
       "32404841                  1     8.8\n",
       "32404842                  2     8.8\n",
       "32404843                  0     3.7\n",
       "32404849                  3     3.7\n",
       "32404850                  4     3.7\n",
       "\n",
       "[9721098 rows x 2 columns]"
      ]
     },
     "execution_count": 57,
     "metadata": {},
     "output_type": "execute_result"
    }
   ],
   "source": [
    "df2"
   ]
  },
  {
   "cell_type": "code",
   "execution_count": 61,
   "id": "e1455722",
   "metadata": {},
   "outputs": [
    {
     "data": {
      "image/png": "[encoded data removed]",
      "text/plain": [
       "<Figure size 640x480 with 1 Axes>"
      ]
     },
     "metadata": {},
     "output_type": "display_data"
    }
   ],
   "source": [
    "line = sns.lineplot(data = df2, x = 'order_day_of_week', y = 'prices')"
   ]
  },
  {
   "cell_type": "code",
   "execution_count": 67,
   "id": "7bfd5dc6",
   "metadata": {},
   "outputs": [
    {
     "data": {
      "text/plain": [
       "count    9.721098e+06\n",
       "mean     7.790730e+00\n",
       "std      4.591880e-02\n",
       "min      7.755491e+00\n",
       "25%      7.757718e+00\n",
       "50%      7.758667e+00\n",
       "75%      7.855977e+00\n",
       "max      7.856214e+00\n",
       "Name: prices, dtype: float64"
      ]
     },
     "execution_count": 67,
     "metadata": {},
     "output_type": "execute_result"
    }
   ],
   "source": [
    "df2.groupby('order_day_of_week')['prices'].transform('mean').describe()"
   ]
  },
  {
   "cell_type": "code",
   "execution_count": 69,
   "id": "fb447c84",
   "metadata": {},
   "outputs": [],
   "source": [
    "df3 = ords_prods_merge[['order_day_of_week','prices']]"
   ]
  },
  {
   "cell_type": "code",
   "execution_count": 70,
   "id": "cf395dc9",
   "metadata": {},
   "outputs": [
    {
     "data": {
      "image/png": "[encoded data removed]",
      "text/plain": [
       "<Figure size 640x480 with 1 Axes>"
      ]
     },
     "metadata": {},
     "output_type": "display_data"
    }
   ],
   "source": [
    "line3 = sns.lineplot( data = df3, x = 'order_day_of_week', y = 'prices')"
   ]
  },
  {
   "cell_type": "code",
   "execution_count": null,
   "id": "b008fe1f",
   "metadata": {},
   "outputs": [],
   "source": []
  }
 ],
 "metadata": {
  "kernelspec": {
   "display_name": "Python 3 (ipykernel)",
   "language": "python",
   "name": "python3"
  },
  "language_info": {
   "codemirror_mode": {
    "name": "ipython",
    "version": 3
   },
   "file_extension": ".py",
   "mimetype": "text/x-python",
   "name": "python",
   "nbconvert_exporter": "python",
   "pygments_lexer": "ipython3",
   "version": "3.9.13"
  }
 },
 "nbformat": 4,
 "nbformat_minor": 5
}
