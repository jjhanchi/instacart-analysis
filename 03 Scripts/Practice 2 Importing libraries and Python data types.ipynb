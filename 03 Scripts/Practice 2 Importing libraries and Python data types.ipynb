{
 "cells": [
  {
   "cell_type": "markdown",
   "id": "7368b44e",
   "metadata": {},
   "source": [
    "# 01. Importing Libraries\n",
    "## level 2 \n"
   ]
  },
  {
   "cell_type": "code",
   "execution_count": 38,
   "id": "a603bc48",
   "metadata": {},
   "outputs": [
    {
     "name": "stdout",
     "output_type": "stream",
     "text": [
      "pandas  1.4.4\n",
      "numpy  1.21.5\n"
     ]
    }
   ],
   "source": [
    "#importing libraries\n",
    "import pandas as pd\n",
    "import numpy as np\n",
    "import os\n",
    "print('pandas ',pd.__version__)\n",
    "print('numpy ',np.__version__)"
   ]
  },
  {
   "cell_type": "markdown",
   "id": "e2a33094",
   "metadata": {},
   "source": []
  },
  {
   "cell_type": "code",
   "execution_count": 52,
   "id": "83a32e19",
   "metadata": {},
   "outputs": [
    {
     "data": {
      "text/plain": [
       "100"
      ]
     },
     "execution_count": 52,
     "metadata": {},
     "output_type": "execute_result"
    }
   ],
   "source": [
    "#operations leading to result = 100\n",
    "x1 = 33\n",
    "x2 = 67\n",
    "x3 = 45\n",
    "x4 = 167\n",
    "x5 = 22\n",
    "x1 + x2\n",
    "x1 + x3 + x5\n",
    "x4 - x3 - x5"
   ]
  },
  {
   "cell_type": "code",
   "execution_count": 54,
   "id": "35398bb2",
   "metadata": {},
   "outputs": [
    {
     "data": {
      "text/plain": [
       "6.0936"
      ]
     },
     "execution_count": 54,
     "metadata": {},
     "output_type": "execute_result"
    }
   ],
   "source": [
    "#operations with floating point variables\n",
    "y2 = 2.5\n",
    "y3 = 15.234\n",
    "y3/y2"
   ]
  },
  {
   "cell_type": "code",
   "execution_count": 63,
   "id": "fe160758",
   "metadata": {},
   "outputs": [
    {
     "name": "stdout",
     "output_type": "stream",
     "text": [
      "sample word >>  CareerFoundry\n"
     ]
    }
   ],
   "source": [
    "#constructing a word by concatenating string variables\n",
    "s1 = 'Career'\n",
    "s2 = 'Foundry'\n",
    "print('sample word >> ',s1 + s2)"
   ]
  },
  {
   "cell_type": "code",
   "execution_count": 62,
   "id": "596bf0ae",
   "metadata": {},
   "outputs": [
    {
     "name": "stdout",
     "output_type": "stream",
     "text": [
      "sentence 1 >> The greatest glory in living lies not in never falling, but in rising every time we fall.\n",
      "sentence 2 >> The way to get started is to quit talking and begin doing.\n"
     ]
    }
   ],
   "source": [
    "#constructing senteces by concatenating string variables\n",
    "comma = ', '\n",
    "period = '.'\n",
    "space = ' '\n",
    "t1 = 'The greatest glory in living lies not in never falling'\n",
    "t2 = 'quit talking and begin doing'\n",
    "t3 = 'is to'\n",
    "t4 = 'but in rising every time we fall'\n",
    "t5 = 'The way to get started'\n",
    "print('sentence 1 >>', t1 + comma + t4 + period)\n",
    "print('sentence 2 >>', t5 + space + t3 + space + t2 + period)"
   ]
  },
  {
   "cell_type": "code",
   "execution_count": 72,
   "id": "98265398",
   "metadata": {},
   "outputs": [
    {
     "name": "stdout",
     "output_type": "stream",
     "text": [
      "abc abc abc abc abc abc abc abc abc abc abc abc abc abc abc abc abc abc abc abc abc abc abc abc abc abc abc abc abc abc abc abc abc abc abc abc abc abc abc abc abc abc abc abc abc abc abc abc abc abc abc abc abc abc abc abc abc abc abc abc abc abc abc abc abc abc abc abc abc abc abc abc abc abc abc abc abc abc abc abc abc abc abc abc abc abc abc abc abc abc abc abc abc abc abc abc abc abc abc abc \n"
     ]
    }
   ],
   "source": [
    "print('abc '*100)"
   ]
  },
  {
   "cell_type": "code",
   "execution_count": 18,
   "id": "9869d6b1",
   "metadata": {},
   "outputs": [
    {
     "data": {
      "text/plain": [
       "bool"
      ]
     },
     "execution_count": 18,
     "metadata": {},
     "output_type": "execute_result"
    }
   ],
   "source": [
    "type(False)"
   ]
  },
  {
   "cell_type": "code",
   "execution_count": 19,
   "id": "d7c1371b",
   "metadata": {},
   "outputs": [
    {
     "data": {
      "text/plain": [
       "6"
      ]
     },
     "execution_count": 19,
     "metadata": {},
     "output_type": "execute_result"
    }
   ],
   "source": [
    "x+4"
   ]
  },
  {
   "cell_type": "code",
   "execution_count": 32,
   "id": "1fe7e44e",
   "metadata": {},
   "outputs": [
    {
     "name": "stdout",
     "output_type": "stream",
     "text": [
      "| x =  3  | y =  11  | y//x =  3  | y%x =  2\n"
     ]
    }
   ],
   "source": [
    "x = 3\n",
    "y = 11\n",
    "print('| x = ', x, ' | y = ',y,' | y//x = ', y//x, ' | y%x = ', y%x)"
   ]
  },
  {
   "cell_type": "code",
   "execution_count": null,
   "id": "e14a3164",
   "metadata": {},
   "outputs": [],
   "source": []
  }
 ],
 "metadata": {
  "kernelspec": {
   "display_name": "Python 3 (ipykernel)",
   "language": "python",
   "name": "python3"
  },
  "language_info": {
   "codemirror_mode": {
    "name": "ipython",
    "version": 3
   },
   "file_extension": ".py",
   "mimetype": "text/x-python",
   "name": "python",
   "nbconvert_exporter": "python",
   "pygments_lexer": "ipython3",
   "version": "3.9.13"
  }
 },
 "nbformat": 4,
 "nbformat_minor": 5
}
