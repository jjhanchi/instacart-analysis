{
 "cells": [
  {
   "cell_type": "markdown",
   "id": "98ef3ae2",
   "metadata": {},
   "source": [
    "## Exercise 4.2 - Jose Hanchi"
   ]
  },
  {
   "cell_type": "markdown",
   "id": "e79e3562",
   "metadata": {},
   "source": [
    "### Importing Python Libraries and checking the version of pandas and numpy"
   ]
  },
  {
   "cell_type": "code",
   "execution_count": 1,
   "id": "f0fe1187",
   "metadata": {},
   "outputs": [
    {
     "name": "stdout",
     "output_type": "stream",
     "text": [
      "pandas  1.4.4\n",
      "numpy  1.21.5\n"
     ]
    }
   ],
   "source": [
    "#importing libraries: pandas, numpy, os\n",
    "import pandas as pd\n",
    "import numpy as np\n",
    "import os\n",
    "print('pandas ',pd.__version__)\n",
    "print('numpy ',np.__version__)"
   ]
  },
  {
   "cell_type": "markdown",
   "id": "b49e3272",
   "metadata": {},
   "source": [
    "### Working with Python Data Types"
   ]
  },
  {
   "cell_type": "markdown",
   "id": "9e404787",
   "metadata": {},
   "source": [
    "#### (step 7) integer operations that yield 100"
   ]
  },
  {
   "cell_type": "code",
   "execution_count": 2,
   "id": "b78e6737",
   "metadata": {},
   "outputs": [
    {
     "name": "stdout",
     "output_type": "stream",
     "text": [
      "opearaion # 1 >>  100\n",
      "operation # 2 >>  100\n",
      "operation # 3 >>  100\n"
     ]
    }
   ],
   "source": [
    "#operations leading to result = 100\n",
    "x1 = 33\n",
    "x2 = 67\n",
    "x3 = 45\n",
    "x4 = 167\n",
    "x5 = 22\n",
    "x1 + x2\n",
    "print('opearaion # 1 >> ', x1 + x3 + x5)\n",
    "print('operation # 2 >> ', x4 - x3 - x5)\n",
    "print('operation # 3 >> ', x1 + x2)"
   ]
  },
  {
   "cell_type": "markdown",
   "id": "c31d614f",
   "metadata": {},
   "source": [
    "#### (step 8) sample floating point operation"
   ]
  },
  {
   "cell_type": "code",
   "execution_count": 3,
   "id": "ef931efc",
   "metadata": {},
   "outputs": [
    {
     "name": "stdout",
     "output_type": "stream",
     "text": [
      "floating point operation >>  6.0936\n"
     ]
    }
   ],
   "source": [
    "#operations with floating point variables\n",
    "y2 = 2.5\n",
    "y3 = 15.234\n",
    "print('floating point operation >> ', y3/y2)"
   ]
  },
  {
   "cell_type": "markdown",
   "id": "26150894",
   "metadata": {},
   "source": [
    "#### (step 9) string operations (word)"
   ]
  },
  {
   "cell_type": "code",
   "execution_count": 4,
   "id": "872fe6d4",
   "metadata": {},
   "outputs": [
    {
     "name": "stdout",
     "output_type": "stream",
     "text": [
      "sample word >>  CareerFoundry\n"
     ]
    }
   ],
   "source": [
    "#constructing a word by concatenating string variables\n",
    "s1 = 'Career'\n",
    "s2 = 'Foundry'\n",
    "print('sample word >> ',s1 + s2)"
   ]
  },
  {
   "cell_type": "markdown",
   "id": "819827e3",
   "metadata": {},
   "source": [
    "#### (step 10) string operations (sentences)"
   ]
  },
  {
   "cell_type": "code",
   "execution_count": 5,
   "id": "9b2d2906",
   "metadata": {},
   "outputs": [
    {
     "name": "stdout",
     "output_type": "stream",
     "text": [
      "sentence 1 >>  The greatest glory in living lies not in never falling, but in rising every time we fall.\n",
      "sentence 2 >>  The way to get started is to quit talking and begin doing.\n"
     ]
    }
   ],
   "source": [
    "#constructing sentences by concatenating string variables\n",
    "comma = ', '\n",
    "period = '.'\n",
    "space = ' '\n",
    "t1 = 'The greatest glory in living lies not in never falling'\n",
    "t2 = 'quit talking and begin doing'\n",
    "t3 = 'is to'\n",
    "t4 = 'but in rising every time we fall'\n",
    "t5 = 'The way to get started'\n",
    "print('sentence 1 >> ', t1 + comma + t4 + period)\n",
    "print('sentence 2 >> ', t5 + space + t3 + space + t2 + period)"
   ]
  },
  {
   "cell_type": "markdown",
   "id": "723cac0c",
   "metadata": {},
   "source": [
    "#### (bonus) print a string 100 times"
   ]
  },
  {
   "cell_type": "code",
   "execution_count": 6,
   "id": "cb276d4b",
   "metadata": {},
   "outputs": [
    {
     "name": "stdout",
     "output_type": "stream",
     "text": [
      "abc abc abc abc abc abc abc abc abc abc abc abc abc abc abc abc abc abc abc abc abc abc abc abc abc abc abc abc abc abc abc abc abc abc abc abc abc abc abc abc abc abc abc abc abc abc abc abc abc abc abc abc abc abc abc abc abc abc abc abc abc abc abc abc abc abc abc abc abc abc abc abc abc abc abc abc abc abc abc abc abc abc abc abc abc abc abc abc abc abc abc abc abc abc abc abc abc abc abc abc \n"
     ]
    }
   ],
   "source": [
    "#multiplying a string by X is the same as concatenating it X times\n",
    "print('abc '*100)"
   ]
  }
 ],
 "metadata": {
  "kernelspec": {
   "display_name": "Python 3 (ipykernel)",
   "language": "python",
   "name": "python3"
  },
  "language_info": {
   "codemirror_mode": {
    "name": "ipython",
    "version": 3
   },
   "file_extension": ".py",
   "mimetype": "text/x-python",
   "name": "python",
   "nbconvert_exporter": "python",
   "pygments_lexer": "ipython3",
   "version": "3.9.13"
  }
 },
 "nbformat": 4,
 "nbformat_minor": 5
}
